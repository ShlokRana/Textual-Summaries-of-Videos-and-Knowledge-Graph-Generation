{
  "nbformat": 4,
  "nbformat_minor": 0,
  "metadata": {
    "colab": {
      "provenance": []
    },
    "kernelspec": {
      "name": "python3",
      "display_name": "Python 3"
    },
    "language_info": {
      "name": "python"
    }
  },
  "cells": [
    {
      "cell_type": "code",
      "source": [
        "!pip install rouge"
      ],
      "metadata": {
        "colab": {
          "base_uri": "https://localhost:8080/"
        },
        "id": "wOUnXtEt9OUW",
        "outputId": "f23aed13-cdc6-4b54-8d23-52fea35fe8c2"
      },
      "execution_count": null,
      "outputs": [
        {
          "output_type": "stream",
          "name": "stdout",
          "text": [
            "Looking in indexes: https://pypi.org/simple, https://us-python.pkg.dev/colab-wheels/public/simple/\n",
            "Collecting rouge\n",
            "  Downloading rouge-1.0.1-py3-none-any.whl (13 kB)\n",
            "Requirement already satisfied: six in /usr/local/lib/python3.8/dist-packages (from rouge) (1.15.0)\n",
            "Installing collected packages: rouge\n",
            "Successfully installed rouge-1.0.1\n"
          ]
        }
      ]
    },
    {
      "cell_type": "code",
      "source": [
        "from rouge import Rouge"
      ],
      "metadata": {
        "id": "RlM0XWbg55Um"
      },
      "execution_count": null,
      "outputs": []
    },
    {
      "cell_type": "code",
      "source": [
        "rouge = Rouge()"
      ],
      "metadata": {
        "id": "Ph5u9DLz6-D5"
      },
      "execution_count": null,
      "outputs": []
    },
    {
      "cell_type": "code",
      "source": [
        "reference = \"\"\"Two people, Jenny and Peter, are having a conversation. Jenny lives in Dubai with her wife and works in a factory, but would rather work in an office. Peter works in a supermarket as a manager and enjoys his job. Jenny has a lot of friends, including around thirty best friends, while Peter has only one best friend. Jenny's ear hurts every time she takes a plane, and doctors couldn't fix the problem. The conversation ends with the two saying goodbye.\"\"\""
      ],
      "metadata": {
        "id": "mtzS7n_ENMvo"
      },
      "execution_count": null,
      "outputs": []
    },
    {
      "cell_type": "markdown",
      "source": [
        "# Pegasus Model"
      ],
      "metadata": {
        "id": "GK72lFWHM78Q"
      }
    },
    {
      "cell_type": "code",
      "execution_count": null,
      "metadata": {
        "id": "selObLRA4vjF"
      },
      "outputs": [],
      "source": [
        "PegSummary = \"\"\"The following is a transcript of the conversation between Jenny and Peter, which took place in Dubai last week. How long do you live there? I have been married for three years). Does your wife know what's going on at home or does she go out to dinner with her husband every night?! Every time that plane goes up... my ear keeps getting bigger And then it gets even worse!\"\"\""
      ]
    },
    {
      "cell_type": "code",
      "source": [
        "rouge.get_scores(PegSummary, reference)"
      ],
      "metadata": {
        "id": "8SeZPXF5H4Nr",
        "colab": {
          "base_uri": "https://localhost:8080/"
        },
        "outputId": "3b739095-5c03-4da8-c436-fc5b92e5d5ac"
      },
      "execution_count": null,
      "outputs": [
        {
          "output_type": "execute_result",
          "data": {
            "text/plain": [
              "[{'rouge-1': {'r': 0.2833333333333333,\n",
              "   'p': 0.24285714285714285,\n",
              "   'f': 0.26153845656804736},\n",
              "  'rouge-2': {'r': 0.05128205128205128,\n",
              "   'p': 0.057971014492753624,\n",
              "   'f': 0.05442176372622565},\n",
              "  'rouge-l': {'r': 0.21666666666666667,\n",
              "   'p': 0.18571428571428572,\n",
              "   'f': 0.19999999502958593}}]"
            ]
          },
          "metadata": {},
          "execution_count": 6
        }
      ]
    },
    {
      "cell_type": "markdown",
      "source": [
        "# Bart Model"
      ],
      "metadata": {
        "id": "95r_GONNPp93"
      }
    },
    {
      "cell_type": "code",
      "source": [
        "BartSummary = \"\"\"Jenny lives in Abu Dhabi and works in a supermarket. Peter lives in Dubai and works as a factory manager. He has been married to his wife for three years. Peter says he has lost a lot of his best friends. He says he feels sorry for Jenny, who must be lonely. Jenny says she will share her friends with you, but she has to go. She says her ear is killing her every time a plane goes up.\"\"\""
      ],
      "metadata": {
        "id": "x89mfSB9PSAI"
      },
      "execution_count": null,
      "outputs": []
    },
    {
      "cell_type": "code",
      "source": [
        "rouge.get_scores(BartSummary, reference)"
      ],
      "metadata": {
        "colab": {
          "base_uri": "https://localhost:8080/"
        },
        "id": "dzzgbIU5H-Oo",
        "outputId": "c608c0f2-887f-4b5d-f86d-6898fe199be5"
      },
      "execution_count": null,
      "outputs": [
        {
          "output_type": "execute_result",
          "data": {
            "text/plain": [
              "[{'rouge-1': {'r': 0.4, 'p': 0.43636363636363634, 'f': 0.4173912993572779},\n",
              "  'rouge-2': {'r': 0.14102564102564102,\n",
              "   'p': 0.14666666666666667,\n",
              "   'f': 0.14379084467512512},\n",
              "  'rouge-l': {'r': 0.4, 'p': 0.43636363636363634, 'f': 0.4173912993572779}}]"
            ]
          },
          "metadata": {},
          "execution_count": 8
        }
      ]
    },
    {
      "cell_type": "markdown",
      "source": [
        "# T5 Model"
      ],
      "metadata": {
        "id": "d2DpDjpIYcEo"
      }
    },
    {
      "cell_type": "code",
      "source": [
        "T5Summary = \"\"\"The BBC's weekly The Boss series profiles different people from around the world. This is a full transcript of the story of Jenny, who has been married for seven years in Dubai. Here, she explains how she and her husband have been talking to us about their experiences and why they're lonely.\"\"\""
      ],
      "metadata": {
        "id": "60lADrb5D6UV"
      },
      "execution_count": null,
      "outputs": []
    },
    {
      "cell_type": "code",
      "source": [
        "rouge.get_scores(T5Summary, reference)"
      ],
      "metadata": {
        "id": "bhNL2XVqEgKE",
        "colab": {
          "base_uri": "https://localhost:8080/"
        },
        "outputId": "0d790172-3d13-4f80-99b1-f388c1fbf593"
      },
      "execution_count": null,
      "outputs": [
        {
          "output_type": "execute_result",
          "data": {
            "text/plain": [
              "[{'rouge-1': {'r': 0.18333333333333332,\n",
              "   'p': 0.2391304347826087,\n",
              "   'f': 0.20754716489854053},\n",
              "  'rouge-2': {'r': 0.01282051282051282,\n",
              "   'p': 0.0196078431372549,\n",
              "   'f': 0.01550387118803104},\n",
              "  'rouge-l': {'r': 0.16666666666666666,\n",
              "   'p': 0.21739130434782608,\n",
              "   'f': 0.18867924037023862}}]"
            ]
          },
          "metadata": {},
          "execution_count": 10
        }
      ]
    },
    {
      "cell_type": "markdown",
      "source": [
        "# Bert Embeddings for checking Cosine Similarity"
      ],
      "metadata": {
        "id": "Bbq9jrw3N5Ha"
      }
    },
    {
      "cell_type": "code",
      "source": [
        "!pip install sentence-transformers"
      ],
      "metadata": {
        "id": "Xb5k3eOuONCt"
      },
      "execution_count": null,
      "outputs": []
    },
    {
      "cell_type": "code",
      "source": [
        "from sentence_transformers import SentenceTransformer\n",
        "sbert_model = SentenceTransformer('bert-base-nli-mean-tokens')"
      ],
      "metadata": {
        "id": "_YVimFwEOSRN"
      },
      "execution_count": null,
      "outputs": []
    },
    {
      "cell_type": "code",
      "source": [
        "sentences = [PegSummary, BartSummary, T5Summary]"
      ],
      "metadata": {
        "id": "zIqo7mckOjbJ"
      },
      "execution_count": null,
      "outputs": []
    },
    {
      "cell_type": "code",
      "source": [
        "sentence_embeddings = sbert_model.encode(sentences)"
      ],
      "metadata": {
        "id": "p4xyp4MDOc6O"
      },
      "execution_count": null,
      "outputs": []
    },
    {
      "cell_type": "code",
      "source": [
        "ref_vec = sbert_model.encode([reference])[0]"
      ],
      "metadata": {
        "id": "_uQx-8URPNDf"
      },
      "execution_count": null,
      "outputs": []
    },
    {
      "cell_type": "code",
      "source": [
        "from scipy.spatial import distance\n",
        "for sent in sentences:\n",
        "  sim = distance.cosine(ref_vec, sbert_model.encode([sent])[0])\n",
        "  print(\"Sentence = \", sent, \"; similarity = \", sim)"
      ],
      "metadata": {
        "colab": {
          "base_uri": "https://localhost:8080/"
        },
        "id": "AN30ZC6sPyUh",
        "outputId": "40a7de38-1c17-4085-9a00-5ce21774e3fe"
      },
      "execution_count": null,
      "outputs": [
        {
          "output_type": "stream",
          "name": "stdout",
          "text": [
            "Sentence =  The following is a transcript of the conversation between Jenny and Peter, which took place in Dubai last week. How long do you live there? I have been married for three years). Does your wife know what's going on at home or does she go out to dinner with her husband every night?! Every time that plane goes up... my ear keeps getting bigger And then it gets even worse! ; similarity =  0.2916005253791809\n",
            "Sentence =  Jenny lives in Abu Dhabi and works in a supermarket. Peter lives in Dubai and works as a factory manager. He has been married to his wife for three years. Peter says he has lost a lot of his best friends. He says he feels sorry for Jenny, who must be lonely. Jenny says she will share her friends with you, but she has to go. She says her ear is killing her every time a plane goes up. ; similarity =  0.15220457315444946\n",
            "Sentence =  The BBC's weekly The Boss series profiles different people from around the world. This is a full transcript of the story of Jenny, who has been married for seven years in Dubai. Here, she explains how she and her husband have been talking to us about their experiences and why they're lonely. ; similarity =  0.30409741401672363\n"
          ]
        }
      ]
    },
    {
      "cell_type": "markdown",
      "source": [
        "# InferSent Embeddings for checking Cosine Similarity"
      ],
      "metadata": {
        "id": "p3P3N6qleVsg"
      }
    },
    {
      "cell_type": "code",
      "source": [
        "import nltk\n",
        "nltk.download('punkt')\n",
        "from nltk.tokenize import word_tokenize"
      ],
      "metadata": {
        "id": "AFei48vkmx2m"
      },
      "execution_count": null,
      "outputs": []
    },
    {
      "cell_type": "code",
      "source": [
        "! mkdir encoder\n",
        "! curl -Lo encoder/infersent2.pkl https://dl.fbaipublicfiles.com/infersent/infersent2.pkl\n",
        "\n",
        "! mkdir GloVe\n",
        "! curl -Lo GloVe/glove.840B.300d.zip http://nlp.stanford.edu/data/glove.840B.300d.zip\n",
        "! unzip GloVe/glove.840B.300d.zip -d GloVe/"
      ],
      "metadata": {
        "id": "GzMF9kJbejfu"
      },
      "execution_count": null,
      "outputs": []
    },
    {
      "cell_type": "code",
      "source": [
        "from models import InferSent\n",
        "import torch\n",
        "\n",
        "V = 2\n",
        "MODEL_PATH = 'encoder/infersent%s.pkl' % V\n",
        "params_model = {'bsize': 64, 'word_emb_dim': 300, 'enc_lstm_dim': 2048,\n",
        "                'pool_type': 'max', 'dpout_model': 0.0, 'version': V}\n",
        "model = InferSent(params_model)\n",
        "model.load_state_dict(torch.load(MODEL_PATH))\n",
        "\n",
        "W2V_PATH = '/content/GloVe/glove.840B.300d.txt'\n",
        "model.set_w2v_path(W2V_PATH)"
      ],
      "metadata": {
        "id": "3TqPc_wTeobG"
      },
      "execution_count": null,
      "outputs": []
    },
    {
      "cell_type": "code",
      "source": [
        "model.build_vocab(sentences, tokenize=True)"
      ],
      "metadata": {
        "id": "HELr-1pRe0wd"
      },
      "execution_count": null,
      "outputs": []
    },
    {
      "cell_type": "code",
      "source": [
        "ref_vec = model.encode([reference])[0]"
      ],
      "metadata": {
        "id": "pcqa1wSre6YM"
      },
      "execution_count": null,
      "outputs": []
    },
    {
      "cell_type": "code",
      "source": [
        "similarity = []\n",
        "for sent in sentences:\n",
        "  sim = distance.cosine(ref_vec, model.encode([sent])[0])\n",
        "  print(\"Sentence = \", sent, \"; similarity = \", sim)\n"
      ],
      "metadata": {
        "colab": {
          "base_uri": "https://localhost:8080/"
        },
        "id": "GDCIrsBunNgb",
        "outputId": "b11cb77b-dd6d-4a44-b333-9e7085c9fe45"
      },
      "execution_count": null,
      "outputs": [
        {
          "output_type": "stream",
          "name": "stdout",
          "text": [
            "Sentence =  The following is a transcript of the conversation between Jenny and Peter, which took place in Dubai last week. How long do you live there? I have been married for three years). Does your wife know what's going on at home or does she go out to dinner with her husband every night?! Every time that plane goes up... my ear keeps getting bigger And then it gets even worse! ; similarity =  0.3921583890914917\n",
            "Sentence =  Jenny lives in Abu Dhabi and works in a supermarket. Peter lives in Dubai and works as a factory manager. He has been married to his wife for three years. Peter says he has lost a lot of his best friends. He says he feels sorry for Jenny, who must be lonely. Jenny says she will share her friends with you, but she has to go. She says her ear is killing her every time a plane goes up. ; similarity =  0.02439248561859131\n",
            "Sentence =  The BBC's weekly The Boss series profiles different people from around the world. This is a full transcript of the story of Jenny, who has been married for seven years in Dubai. Here, she explains how she and her husband have been talking to us about their experiences and why they're lonely. ; similarity =  0.2128646969795227\n"
          ]
        }
      ]
    },
    {
      "cell_type": "markdown",
      "source": [
        "# Spacy Doc Similarity"
      ],
      "metadata": {
        "id": "htQWvuL7yxf6"
      }
    },
    {
      "cell_type": "code",
      "source": [
        "!python -m spacy download en_core_web_lg"
      ],
      "metadata": {
        "id": "-zaXhRVDzbTg"
      },
      "execution_count": null,
      "outputs": []
    },
    {
      "cell_type": "code",
      "source": [
        "import spacy\n",
        "nlp = spacy.load(\"en_core_web_lg\")"
      ],
      "metadata": {
        "id": "gXBXPTESy42W"
      },
      "execution_count": null,
      "outputs": []
    },
    {
      "cell_type": "code",
      "source": [
        "reference1 = nlp(u\"Two people, Jenny and Peter, are having a conversation. Jenny lives in Dubai with her wife and works in a factory, but would rather work in an office. Peter works in a supermarket as a manager and enjoys his job. Jenny has a lot of friends, including around thirty best friends, while Peter has only one best friend. Jenny's ear hurts every time she takes a plane, and doctors couldn't fix the problem. The conversation ends with the two saying goodbye.\")\n",
        "PegSummary1 = nlp(u\"The following is a transcript of the conversation between Jenny and Peter, which took place in Dubai last week. How long do you live there? I have been married for three years). Does your wife know what's going on at home or does she go out to dinner with her husband every night?! Every time that plane goes up... my ear keeps getting bigger And then it gets even worse!\")\n",
        "BartSummary1 = nlp(u\"Jenny lives in Abu Dhabi and works in a supermarket. Peter lives in Dubai and works as a factory manager. He has been married to his wife for three years. Peter says he has lost a lot of his best friends. He says he feels sorry for Jenny, who must be lonely. Jenny says she will share her friends with you, but she has to go. She says her ear is killing her every time a plane goes up.\")\n",
        "T5Summary1 = nlp(u\"The BBC's weekly The Boss series profiles different people from around the world. This is a full transcript of the story of Jenny, who has been married for seven years in Dubai. Here, she explains how she and her husband have been talking to us about their experiences and why they're lonely.\")"
      ],
      "metadata": {
        "id": "qNSiz2rby6-a"
      },
      "execution_count": null,
      "outputs": []
    },
    {
      "cell_type": "code",
      "source": [
        "print(reference1.similarity(PegSummary1))\n",
        "print(reference1.similarity(BartSummary1))\n",
        "print(reference1.similarity(T5Summary1))"
      ],
      "metadata": {
        "colab": {
          "base_uri": "https://localhost:8080/"
        },
        "id": "9IXE6ZqH1Z11",
        "outputId": "096029cf-e2c2-4313-e697-a95f2f1f7a92"
      },
      "execution_count": null,
      "outputs": [
        {
          "output_type": "stream",
          "name": "stdout",
          "text": [
            "0.8468214366136863\n",
            "0.9250934543737741\n",
            "0.934566242904275\n"
          ]
        }
      ]
    }
  ]
}