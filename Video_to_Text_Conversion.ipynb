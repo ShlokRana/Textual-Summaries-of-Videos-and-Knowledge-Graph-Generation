{
  "nbformat": 4,
  "nbformat_minor": 0,
  "metadata": {
    "colab": {
      "provenance": [],
      "gpuType": "T4"
    },
    "kernelspec": {
      "name": "python3",
      "display_name": "Python 3"
    },
    "language_info": {
      "name": "python"
    },
    "accelerator": "GPU"
  },
  "cells": [
    {
      "cell_type": "markdown",
      "source": [
        "# Video to Audio Conversion\n"
      ],
      "metadata": {
        "id": "3LaJt1Ugwbsm"
      }
    },
    {
      "cell_type": "code",
      "source": [
        "!pip3 install imageio==2.4.1"
      ],
      "metadata": {
        "colab": {
          "base_uri": "https://localhost:8080/"
        },
        "id": "zOqmA03Sw8lm",
        "outputId": "aa38bbc3-d68e-4ca8-c795-07354edfee59"
      },
      "execution_count": null,
      "outputs": [
        {
          "output_type": "stream",
          "name": "stdout",
          "text": [
            "Looking in indexes: https://pypi.org/simple, https://us-python.pkg.dev/colab-wheels/public/simple/\n",
            "Collecting imageio==2.4.1\n",
            "  Downloading imageio-2.4.1.tar.gz (3.3 MB)\n",
            "\u001b[2K     \u001b[90m━━━━━━━━━━━━━━━━━━━━━━━━━━━━━━━━━━━━━━━━\u001b[0m \u001b[32m3.3/3.3 MB\u001b[0m \u001b[31m33.0 MB/s\u001b[0m eta \u001b[36m0:00:00\u001b[0m\n",
            "\u001b[?25h  Preparing metadata (setup.py) ... \u001b[?25l\u001b[?25hdone\n",
            "Requirement already satisfied: numpy in /usr/local/lib/python3.10/dist-packages (from imageio==2.4.1) (1.22.4)\n",
            "Requirement already satisfied: pillow in /usr/local/lib/python3.10/dist-packages (from imageio==2.4.1) (8.4.0)\n",
            "Building wheels for collected packages: imageio\n",
            "  Building wheel for imageio (setup.py) ... \u001b[?25l\u001b[?25hdone\n",
            "  Created wheel for imageio: filename=imageio-2.4.1-py3-none-any.whl size=3303886 sha256=bd5b117d41742be0a13d4249f6d0fbd008dae935e3c5df5581941aa0189c0f00\n",
            "  Stored in directory: /root/.cache/pip/wheels/96/5d/ce/bdbdb04744dac03906336eb0d01ff1e222061d3419c55c55f9\n",
            "Successfully built imageio\n",
            "Installing collected packages: imageio\n",
            "  Attempting uninstall: imageio\n",
            "    Found existing installation: imageio 2.25.1\n",
            "    Uninstalling imageio-2.25.1:\n",
            "      Successfully uninstalled imageio-2.25.1\n",
            "\u001b[31mERROR: pip's dependency resolver does not currently take into account all the packages that are installed. This behaviour is the source of the following dependency conflicts.\n",
            "moviepy 1.0.3 requires imageio<3.0,>=2.5; python_version >= \"3.4\", but you have imageio 2.4.1 which is incompatible.\u001b[0m\u001b[31m\n",
            "\u001b[0mSuccessfully installed imageio-2.4.1\n"
          ]
        }
      ]
    },
    {
      "cell_type": "code",
      "execution_count": null,
      "metadata": {
        "id": "ts-xMu6AwVKT"
      },
      "outputs": [],
      "source": [
        "import moviepy.editor as mp"
      ]
    },
    {
      "cell_type": "code",
      "source": [
        "clip = mp.VideoFileClip(r\"Conversation1.mp4\")"
      ],
      "metadata": {
        "id": "bVJzDeysyDUb"
      },
      "execution_count": null,
      "outputs": []
    },
    {
      "cell_type": "code",
      "source": [
        "clip.audio.write_audiofile(\"converted.wav\")"
      ],
      "metadata": {
        "colab": {
          "base_uri": "https://localhost:8080/"
        },
        "id": "pc0IK9IB1Ry4",
        "outputId": "ed21af10-5445-436c-cdad-485a074710ed"
      },
      "execution_count": null,
      "outputs": [
        {
          "output_type": "stream",
          "name": "stdout",
          "text": [
            "MoviePy - Writing audio in converted.wav\n"
          ]
        },
        {
          "output_type": "stream",
          "name": "stderr",
          "text": []
        },
        {
          "output_type": "stream",
          "name": "stdout",
          "text": [
            "MoviePy - Done.\n"
          ]
        }
      ]
    },
    {
      "cell_type": "markdown",
      "source": [
        "# Audio to Text Conversion\n",
        "\n"
      ],
      "metadata": {
        "id": "xEZ88LAd1dbY"
      }
    },
    {
      "cell_type": "code",
      "source": [
        "! pip install git+https://github.com/openai/whisper.git -q"
      ],
      "metadata": {
        "colab": {
          "base_uri": "https://localhost:8080/"
        },
        "id": "_839kmVJ1ams",
        "outputId": "91d2f376-f213-461f-8639-062d3f873d2c"
      },
      "execution_count": null,
      "outputs": [
        {
          "output_type": "stream",
          "name": "stdout",
          "text": [
            "  Installing build dependencies ... \u001b[?25l\u001b[?25hdone\n",
            "  Getting requirements to build wheel ... \u001b[?25l\u001b[?25hdone\n",
            "  Preparing metadata (pyproject.toml) ... \u001b[?25l\u001b[?25hdone\n",
            "\u001b[2K     \u001b[90m━━━━━━━━━━━━━━━━━━━━━━━━━━━━━━━━━━━━━━━━\u001b[0m \u001b[32m1.7/1.7 MB\u001b[0m \u001b[31m19.2 MB/s\u001b[0m eta \u001b[36m0:00:00\u001b[0m\n",
            "\u001b[?25h  Building wheel for openai-whisper (pyproject.toml) ... \u001b[?25l\u001b[?25hdone\n"
          ]
        }
      ]
    },
    {
      "cell_type": "code",
      "source": [
        "import whisper\n",
        "model = whisper.load_model(\"base\")"
      ],
      "metadata": {
        "colab": {
          "base_uri": "https://localhost:8080/"
        },
        "id": "7315vO-e1xyC",
        "outputId": "ccbf1064-69e7-4d93-c1b0-cdca7ea8a7ab"
      },
      "execution_count": null,
      "outputs": [
        {
          "output_type": "stream",
          "name": "stderr",
          "text": [
            "100%|███████████████████████████████████████| 139M/139M [00:01<00:00, 99.5MiB/s]\n"
          ]
        }
      ]
    },
    {
      "cell_type": "code",
      "source": [
        "result = model.transcribe(\"converted.wav\", fp16=False)\n",
        "print(result[\"text\"])"
      ],
      "metadata": {
        "colab": {
          "base_uri": "https://localhost:8080/"
        },
        "id": "qUxnl4nn17kX",
        "outputId": "be053f67-237f-43de-a49b-5e971979b5dd"
      },
      "execution_count": null,
      "outputs": [
        {
          "output_type": "stream",
          "name": "stdout",
          "text": [
            " What is data brought to you by the University of Houston Libraries? We hear the word data all of the time. It is collected, analyzed, shared, hacked, bot, and sold. But what exactly is data? Data are collected observations or measurements represented as text, numbers, or multimedia. When we think of data, we may immediately think of numbers. But data can also be field notes, videos, audio recordings, photographs, documents, and transcripts. What you consider to be data will be different depending on your area of research. For example, if you're researching the impact of wildfires on national parks, your data may be satellite maps and images. But if you're researching graduation rates of college students with faculty mentors, your data might be the number of graduates each year and the amount of time taken to earn their degree. Data will be different based on what you study. Data can be broadly categorized as qualitative or quantitative. Quantitative data can be expressed as a number encountered or compared on a numerical scale. This would include such things as rating scales from surveys, temperatures observed, or measurements gathered. It could also include things like counts of words used in a book or the number of attendees at an event. Qualitative data include things like textual descriptions of events, maps, pictures, or transcripts. There are other ways to categorize data, but most fall in one of these two broad categories. Data are not the same as statistics. Statistics are the result of data analysis and interpretation, so be sure not to use the two words interchangeably. Data analysis and interpreting data can help you identify patterns and trends, offer solutions to complex problems, or better understand scientific phenomena. Data are powerful aids in our time to understand the world. If you want to learn more about finding, accessing, and using data, visit the UH Libraries Finding Data Guide.\n"
          ]
        }
      ]
    },
    {
      "cell_type": "code",
      "source": [
        "with open(\"Transcript.txt\", \"w+\") as f:\n",
        "  for items in result[\"text\"]:\n",
        "    f.write(\"%s\" %items)\n",
        "  print(\"File Written Sucessfully\")\n",
        "\n",
        "f.close()"
      ],
      "metadata": {
        "colab": {
          "base_uri": "https://localhost:8080/"
        },
        "id": "iTQ6ZvY42btc",
        "outputId": "796b6b3a-438f-41e0-e5fa-adbb7aa323e0"
      },
      "execution_count": null,
      "outputs": [
        {
          "output_type": "stream",
          "name": "stdout",
          "text": [
            "File Written Sucessfully\n"
          ]
        }
      ]
    }
  ]
}